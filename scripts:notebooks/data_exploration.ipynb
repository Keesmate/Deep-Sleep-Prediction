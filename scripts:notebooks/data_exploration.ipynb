{
 "cells": [
  {
   "cell_type": "code",
   "execution_count": 2,
   "id": "249bac32",
   "metadata": {},
   "outputs": [],
   "source": [
    "import pandas as pd\n",
    "\n",
    "# Load data\n",
    "df = pd.read_csv(\"cleaned_data.csv\")\n",
    "\n",
    "# Function to generate per-variable statistics\n",
    "def get_variable_stats(df):\n",
    "    total_rows = len(df)\n",
    "\n",
    "    # Start with count and missing\n",
    "    summary = pd.DataFrame({\n",
    "        \"Variable\": df.columns,\n",
    "        \"Non-missing Count\": df.count().values,\n",
    "        \"Missing (%)\": df.isnull().mean().values * 100\n",
    "    })\n",
    "\n",
    "    # Only calculate stats for numeric columns\n",
    "    numeric_df = df.select_dtypes(include='number')\n",
    "\n",
    "    # Create temporary stats dataframe for numeric only\n",
    "    numeric_stats = numeric_df.agg(['mean', 'std', 'min', 'max']).T.reset_index()\n",
    "    numeric_stats.columns = ['Variable', 'Mean', 'Std', 'Min', 'Max']\n",
    "\n",
    "    # Merge with main summary\n",
    "    summary = summary.merge(numeric_stats, on=\"Variable\", how=\"left\")\n",
    "\n",
    "    return summary\n",
    "\n",
    "# Generate summaries\n",
    "stats = get_variable_stats(df)\n",
    "\n",
    "# Export to CSV\n",
    "stats.to_csv(\"stats.csv\", index=False)\n"
   ]
  },
  {
   "cell_type": "code",
   "execution_count": null,
   "id": "b0202fca",
   "metadata": {},
   "outputs": [],
   "source": []
  }
 ],
 "metadata": {
  "kernelspec": {
   "display_name": "minai",
   "language": "python",
   "name": "python3"
  },
  "language_info": {
   "codemirror_mode": {
    "name": "ipython",
    "version": 3
   },
   "file_extension": ".py",
   "mimetype": "text/x-python",
   "name": "python",
   "nbconvert_exporter": "python",
   "pygments_lexer": "ipython3",
   "version": "3.9.18"
  }
 },
 "nbformat": 4,
 "nbformat_minor": 5
}
